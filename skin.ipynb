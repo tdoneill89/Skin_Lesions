import tensorflow as tf
from tensorflow.keras.preprocessing.image import ImageDataGenerator
from tensorflow.keras.layers import Conv2D, MaxPooling2D, Flatten, Dense
from tensorflow.keras.models import Sequential
import os
import matplotlib.pyplot as plt
import matplotlib.image as mpimg

img_height, img_width = 100, 100
batch_size = 1

#Define data paths and class labels
train_data_dir = "ISIC_2019_Training_INPUT"  # Replace with actual path
#test_data_dir = ""  # Replace with actual path
cancerous_label = "cancerous"
benign_label = "benign"
num_classes = 2  # Cancerous or benign

# Create image data generators with data augmentation
train_datagen = ImageDataGenerator(
    '''rescale=1./255,  # Normalize pixel values to [0, 1]
    shear_range=0.2,  # Randomly shear images
    zoom_range=0.2,  # Randomly zoom images
    horizontal_flip=True,  # Randomly flip images horizontally
    fill_mode="nearest"  # Fill mode for padding'''
)
#test_datagen = ImageDataGenerator(rescale=1./255)  # Only rescale for testing

# Load and preprocess training and testing data
train_generator = train_datagen.flow_from_directory(
    train_data_dir,
    target_size=(img_height, img_width),  # Set image dimensions
    batch_size=batch_size,  # Set batch size for training
    class_mode="binary"  # Binary classification for cancerous/benign
)
'''#test_generator = test_datagen.flow_from_directory(
    test_data_dir,
    target_size=(img_height, img_width),
    batch_size=batch_size,  # Same batch size for consistency
    class_mode="binary"
)'''

def plotImages(images_arr):
  fig, axes = plt.subplots(len(images_arr), 1, figsize=(5, len(images_arr) * 3))
  for i, ax in zip(images_arr, axes):
    ax.imshow(i)
    ax.axis('off')
print(len(train_generator))
sample_training_images, _ = next(train_generator)
plotImages(sample_training_images)

'''
# Define the CNN model architecture
model = Sequential()
model.add(Conv2D(32, (3, 3), activation="relu", input_shape=(img_height, img_width, 3)))
model.add(MaxPooling2D((2, 2)))
model.add(Conv2D(64, (3, 3), activation="relu"))
model.add(MaxPooling2D((2, 2)))
model.add(Flatten())
model.add(Dense(128, activation="relu"))  # Hidden layer with neurons
model.add(Dense(num_classes, activation="sigmoid"))  # Output layer for probability

# Compile the model with appropriate optimizer and loss function
model.compile(
    optimizer="adam",  # Consider other optimizers like RMSprop
    loss="binary_crossentropy",  # Suitable for binary classification
    metrics=["accuracy"]
)

# Train the model on the training data
model.fit(train_generator, epochs=10, validation_data=test_generator)

# Evaluate the model's performance on the testing data
test_loss, test_acc = model.evaluate(test_generator)
print("Test accuracy:", test_acc)

# Save the model for future use (optional)
model.save("skin_lesion_classifier.h5")

# Function to predict on a new image
def predict_cancerous(image_path):
    # Load and preprocess the image
    img = tf.keras.preprocessing.image.load_img(image_path, target_size=(img_height, img_width))
    img = tf.keras.preprocessing.image.img_to_array(img)
    img = img / 255.0
    img = np.expand_dims(img, axis=0)  # Add a batch dimension

    # Make prediction using the trained model
    prediction = model.predict(img)
    cancer_probability = prediction[0][0]

    if cancer_probability > 0.5:
        print(f"Predicted: Cancerous (probability: {cancer_probability:.2f})")
    else:
        print(f"Predicted: Benign (probability: {1-cancer_probability:.2f})")

# Example usage (replace with your image path)
predict_cancerous("path/to")
'''